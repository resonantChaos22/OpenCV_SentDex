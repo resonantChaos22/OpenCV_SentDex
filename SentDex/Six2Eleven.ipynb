{
 "cells": [
  {
   "cell_type": "markdown",
   "metadata": {},
   "source": [
    "Video 6\n",
    "\n",
    "Thresholding\n",
    "\n",
    "It is a method to make the image more readable."
   ]
  },
  {
   "cell_type": "code",
   "execution_count": 1,
   "metadata": {},
   "outputs": [],
   "source": [
    "import cv2\n",
    "import numpy as np\n",
    "import matplotlib.pyplot as plt"
   ]
  },
  {
   "cell_type": "code",
   "execution_count": 2,
   "metadata": {},
   "outputs": [],
   "source": [
    "img = cv2.imread('bookpage.jpg')\n",
    "grayscale = cv2.cvtColor(img, cv2.COLOR_BGR2GRAY)"
   ]
  },
  {
   "cell_type": "code",
   "execution_count": 3,
   "metadata": {},
   "outputs": [],
   "source": [
    "retval, threshold = cv2.threshold(img, 12, 255, cv2.THRESH_BINARY)\n",
    "cv2.imshow('threshold', threshold)\n",
    "cv2.waitKey(0)\n",
    "cv2.destroyAllWindows()"
   ]
  },
  {
   "cell_type": "code",
   "execution_count": 4,
   "metadata": {},
   "outputs": [],
   "source": [
    "retval1, threshold1 = cv2.threshold(grayscale, 12, 255, cv2.THRESH_BINARY)\n",
    "cv2.imshow('threshold1', threshold1)\n",
    "cv2.waitKey(0)\n",
    "cv2.destroyAllWindows()"
   ]
  },
  {
   "cell_type": "code",
   "execution_count": 5,
   "metadata": {},
   "outputs": [],
   "source": [
    "#ADAPTIVE THRESHOLD\n",
    "#cv2.adaptiveThreshold(image_obj, High_Value, cv2.ADAPTIVE_THRESH_GAUSSIAN_C, type, 115, 1)    1->Brightness level\n",
    "\n",
    "gaus = cv2.adaptiveThreshold(grayscale, 255, cv2.ADAPTIVE_THRESH_GAUSSIAN_C, cv2.THRESH_BINARY, 115, 1)\n",
    "cv2.imshow('gaus', gaus)\n",
    "cv2.waitKey(0)\n",
    "cv2.destroyAllWindows()"
   ]
  },
  {
   "cell_type": "code",
   "execution_count": 6,
   "metadata": {},
   "outputs": [],
   "source": [
    "retval3, otsu = cv2.threshold(grayscale, 125, 255, cv2.THRESH_BINARY+cv2.THRESH_OTSU)\n",
    "cv2.imshow('otsu', otsu)\n",
    "cv2.waitKey(0)\n",
    "cv2.destroyAllWindows()\n",
    "#otsu not recommended for thsi"
   ]
  },
  {
   "cell_type": "markdown",
   "metadata": {},
   "source": [
    "Video 7\n",
    "\n",
    "Color Filtering\n"
   ]
  },
  {
   "cell_type": "code",
   "execution_count": 7,
   "metadata": {},
   "outputs": [],
   "source": [
    "#fourcc = cv2.VideoWriter_fourcc(*'XVID')\n",
    "#out = cv2.VideoWriter('Yellow.avi', fourcc, 20.0, (640, 480))\n",
    "cap = cv2.VideoCapture(0)\n",
    "\n",
    "while True:\n",
    "    _, frame = cap.read()\n",
    "    \n",
    "    #converting to hsv\n",
    "    hsv = cv2.cvtColor(frame, cv2.COLOR_BGR2HSV)\n",
    "    \n",
    "    #setting limits\n",
    "    lower_yellow = np.array([20, 0, 0])\n",
    "    upper_yellow = np.array([30, 255, 255])\n",
    "    \n",
    "    #creating a mask\n",
    "    mask = cv2.inRange(hsv, lower_yellow, upper_yellow)\n",
    "    res = cv2.bitwise_and(frame, frame, mask=mask)\n",
    "    \n",
    "    #showing\n",
    "    cv2.imshow('frame', frame)\n",
    "    cv2.imshow('mask', mask)\n",
    "    cv2.imshow('res', res)\n",
    "    \n",
    "    #out.write(res)\n",
    "    \n",
    "    if cv2.waitKey(1) & 0xFF==ord('q'):\n",
    "        break\n",
    "        \n",
    "cv2.destroyAllWindows()\n",
    "cap.release()"
   ]
  },
  {
   "cell_type": "markdown",
   "metadata": {},
   "source": [
    "Video 7\n",
    "\n",
    "Blurring and Smoothing"
   ]
  },
  {
   "cell_type": "code",
   "execution_count": 8,
   "metadata": {},
   "outputs": [
    {
     "ename": "SyntaxError",
     "evalue": "invalid syntax (<ipython-input-8-29f9c496d4bb>, line 41)",
     "output_type": "error",
     "traceback": [
      "\u001b[0;36m  File \u001b[0;32m\"<ipython-input-8-29f9c496d4bb>\"\u001b[0;36m, line \u001b[0;32m41\u001b[0m\n\u001b[0;31m    cap.release()IN\u001b[0m\n\u001b[0m                  ^\u001b[0m\n\u001b[0;31mSyntaxError\u001b[0m\u001b[0;31m:\u001b[0m invalid syntax\n"
     ]
    }
   ],
   "source": [
    "#fourcc = cv2.VideoWriter_fourcc(*'XVID')\n",
    "#out = cv2.VideoWriter('Yellow.avi', fourcc, 20.0, (640, 480))\n",
    "cap = cv2.VideoCapture(0)\n",
    "\n",
    "while True:\n",
    "    _, frame = cap.read()\n",
    "    \n",
    "    #converting to hsv\n",
    "    hsv = cv2.cvtColor(frame, cv2.COLOR_BGR2HSV)\n",
    "    \n",
    "    #setting limits\n",
    "    lower_yellow = np.array([20, 0, 0])\n",
    "    upper_yellow = np.array([30, 255, 255])\n",
    "    \n",
    "    #creating a mask\n",
    "    mask = cv2.inRange(hsv, lower_yellow, upper_yellow)\n",
    "    res = cv2.bitwise_and(frame, frame, mask=mask)\n",
    "    \n",
    "    kernel = np.ones((15, 15), np.float32)\n",
    "    smoothed = cv2.filter2D(res, -1, kernel)\n",
    "    \n",
    "    \n",
    "    blur = cv2.GaussianBlur(res, (15, 15), 0)  #  0 -> The value of blurredness\n",
    "    median = cv2.medianBlur(res, 15)\n",
    "    bilateral = cv2.bilateralFilter(res, 15, 75, 75)  # 75 -> The value of blurredness\n",
    "    \n",
    "    #showing\n",
    "    cv2.imshow('frame', frame)\n",
    "    cv2.imshow('res', res)\n",
    "    cv2.imshow('smoothed', smoothed)\n",
    "    cv2.imshow('blur', blur)\n",
    "    cv2.imshow('median', median)\n",
    "    cv2.imshow('bilateral', bilateral)\n",
    "    \n",
    "    #out.write(res)\n",
    "    \n",
    "    if cv2.waitKey(1) & 0xFF==ord('q'):\n",
    "        break\n",
    "        \n",
    "cv2.destroyAllWindows()\n",
    "cap.release()\n",
    "\n"
   ]
  },
  {
   "cell_type": "markdown",
   "metadata": {},
   "source": [
    "Video 8\n",
    "\n",
    "Morphological Transitions"
   ]
  },
  {
   "cell_type": "code",
   "execution_count": 9,
   "metadata": {},
   "outputs": [],
   "source": [
    "cap = cv2.VideoCapture(0)\n",
    "\n",
    "while True:\n",
    "    _, frame = cap.read()\n",
    "    \n",
    "    #converting to hsv\n",
    "    hsv = cv2.cvtColor(frame, cv2.COLOR_BGR2HSV)\n",
    "    \n",
    "    #setting limits\n",
    "    lower_yellow = np.array([20, 0, 0])\n",
    "    upper_yellow = np.array([30, 255, 255])\n",
    "    \n",
    "    #creating a mask\n",
    "    mask = cv2.inRange(hsv, lower_yellow, upper_yellow)\n",
    "    res = cv2.bitwise_and(frame, frame, mask=mask)\n",
    "    \n",
    "    #morphological transformations\n",
    "    kernel = np.ones((5,5), np.uint8)   #it also affects size\n",
    "    erosion = cv2.erode(mask, kernel, iterations=1)  #less iterations means less size of black squares, it has false negatives\n",
    "    dilated = cv2.dilate(mask, kernel, iterations=1)  #same thing with iterations and has false positives\n",
    "    \n",
    "    opening = cv2.morphologyEx(mask, cv2.MORPH_OPEN, kernel)\n",
    "    closing = cv2.morphologyEx(mask, cv2.MORPH_CLOSE, kernel)\n",
    "    \n",
    "    #Tophat - difference between input of image and opening\n",
    "    #Blackhat - difference between closing of image and input\n",
    "    \n",
    "    #showing\n",
    "    cv2.imshow('frame', frame)\n",
    "    cv2.imshow('mask', mask)\n",
    "    cv2.imshow('erosion', erosion)\n",
    "    cv2.imshow('dilated', dilated)\n",
    "    cv2.imshow('opening', opening)\n",
    "    cv2.imshow('closing', closing)\n",
    "    \n",
    "    #out.write(res)\n",
    "    \n",
    "    if cv2.waitKey(1) & 0xFF==ord('q'):\n",
    "        break\n",
    "        \n",
    "cv2.destroyAllWindows()\n",
    "cap.release()"
   ]
  },
  {
   "cell_type": "markdown",
   "metadata": {},
   "source": [
    "Video 9\n",
    "\n",
    "Gradients - help in edge detection\n",
    "\n",
    "Edge detection through Canny()"
   ]
  },
  {
   "cell_type": "code",
   "execution_count": 11,
   "metadata": {},
   "outputs": [],
   "source": [
    "cap = cv2.VideoCapture(0)\n",
    "\n",
    "while True:\n",
    "    _, frame = cap.read()\n",
    "    grayscale = cv2.cvtColor(frame, cv2.COLOR_BGR2GRAY)\n",
    "    laplacian = cv2.Laplacian(frame, cv2.CV_64F)\n",
    "    #sobelx = cv2.Sobel(frame, cv2.CV_64F, 1, 0, ksize=5)\n",
    "    #sobely = cv2.Sobel(frame, cv2.CV_64F, 0, 1, ksize=5)\n",
    "    \n",
    "    #edges = cv2.Canny(frame, 100, 200)\n",
    "    \n",
    "    cv2.imshow('original', frame)\n",
    "    cv2.imshow('laplacian', laplacian)\n",
    "    #cv2.imshow('sobelx', sobelx)\n",
    "    #cv2.imshow('sobely', sobely)\n",
    "    #cv2.imshow('edges', edges)\n",
    "    \n",
    "    \n",
    "    if cv2.waitKey(1) & 0xFF==ord('q'):\n",
    "        break\n",
    "        \n",
    "cv2.destroyAllWindows()\n",
    "cap.release()"
   ]
  },
  {
   "cell_type": "markdown",
   "metadata": {},
   "source": [
    "Video 10\n",
    "\n",
    "Finding a template in an image"
   ]
  },
  {
   "cell_type": "code",
   "execution_count": 64,
   "metadata": {},
   "outputs": [],
   "source": [
    "img = cv2.imread('templateimg.jpg')\n",
    "template = cv2.imread('template', 0)"
   ]
  },
  {
   "cell_type": "code",
   "execution_count": 65,
   "metadata": {},
   "outputs": [
    {
     "data": {
      "text/plain": [
       "(703, 1018)"
      ]
     },
     "execution_count": 65,
     "metadata": {},
     "output_type": "execute_result"
    }
   ],
   "source": [
    "img_gray = cv2.cvtColor(img, cv2.COLOR_BGR2GRAY)\n",
    "img_gray.shape"
   ]
  },
  {
   "cell_type": "code",
   "execution_count": 66,
   "metadata": {},
   "outputs": [],
   "source": [
    "w, h = template.shape[::-1]    #[::-1] gives the transpose of the matrix"
   ]
  },
  {
   "cell_type": "code",
   "execution_count": 67,
   "metadata": {},
   "outputs": [
    {
     "data": {
      "text/plain": [
       "(682, 1000)"
      ]
     },
     "execution_count": 67,
     "metadata": {},
     "output_type": "execute_result"
    }
   ],
   "source": [
    "res = cv2.matchTemplate(img_gray, template, cv2.TM_CCOEFF_NORMED)\n",
    "res.shape"
   ]
  },
  {
   "cell_type": "code",
   "execution_count": 68,
   "metadata": {},
   "outputs": [],
   "source": [
    "cv2.imshow('res', res)\n",
    "cv2.imshow('img_gray', img_gray)\n",
    "cv2.waitKey(0)\n",
    "cv2.destroyAllWindows()"
   ]
  },
  {
   "cell_type": "code",
   "execution_count": 69,
   "metadata": {},
   "outputs": [],
   "source": [
    "threshold = 0.8\n",
    "loc = np.where(res>=threshold)"
   ]
  },
  {
   "cell_type": "code",
   "execution_count": 70,
   "metadata": {},
   "outputs": [
    {
     "data": {
      "text/plain": [
       "(array([101, 101, 102, 102, 102, 103, 103, 151, 151, 151, 152, 152, 152,\n",
       "        153, 153, 153, 199, 200, 200, 201, 201, 246]),\n",
       " array([545, 546, 545, 546, 547, 545, 546, 543, 544, 545, 543, 544, 545,\n",
       "        543, 544, 545, 541, 540, 541, 540, 541, 538]))"
      ]
     },
     "execution_count": 70,
     "metadata": {},
     "output_type": "execute_result"
    }
   ],
   "source": [
    "loc"
   ]
  },
  {
   "cell_type": "code",
   "execution_count": 71,
   "metadata": {},
   "outputs": [
    {
     "name": "stdout",
     "output_type": "stream",
     "text": [
      "(545, 101)\n",
      "(546, 101)\n",
      "(545, 102)\n",
      "(546, 102)\n",
      "(547, 102)\n",
      "(545, 103)\n",
      "(546, 103)\n",
      "(543, 151)\n",
      "(544, 151)\n",
      "(545, 151)\n",
      "(543, 152)\n",
      "(544, 152)\n",
      "(545, 152)\n",
      "(543, 153)\n",
      "(544, 153)\n",
      "(545, 153)\n",
      "(541, 199)\n",
      "(540, 200)\n",
      "(541, 200)\n",
      "(540, 201)\n",
      "(541, 201)\n",
      "(538, 246)\n"
     ]
    }
   ],
   "source": [
    "for i in zip(*loc[::-1]):\n",
    "    print(i)"
   ]
  },
  {
   "cell_type": "code",
   "execution_count": 72,
   "metadata": {},
   "outputs": [],
   "source": [
    "for pt in zip(*loc[::-1]):\n",
    "    cv2.rectangle(img, pt, (pt[0]+w, pt[1]+h), (0, 255, 255), 1)\n",
    "    \n",
    "cv2.imshow('detected', img)\n",
    "cv2.waitKey(0)\n",
    "cv2.destroyAllWindows()"
   ]
  },
  {
   "cell_type": "markdown",
   "metadata": {},
   "source": [
    "VIdeo 11\n",
    "\n",
    "GrabCut Foreground Extraction"
   ]
  },
  {
   "cell_type": "code",
   "execution_count": 76,
   "metadata": {},
   "outputs": [
    {
     "data": {
      "text/plain": [
       "(281, 500)"
      ]
     },
     "execution_count": 76,
     "metadata": {},
     "output_type": "execute_result"
    }
   ],
   "source": [
    "import matplotlib.pyplot as plt\n",
    "\n",
    "img = cv2.imread('grabCut.jpg')\n",
    "mask = np.zeros(img.shape[:2], np.uint8)\n",
    "img.shape[:2]"
   ]
  },
  {
   "cell_type": "code",
   "execution_count": 78,
   "metadata": {},
   "outputs": [
    {
     "data": {
      "text/plain": [
       "(array([[0, 0, 0, ..., 0, 0, 0],\n",
       "        [0, 0, 0, ..., 0, 0, 0],\n",
       "        [0, 0, 0, ..., 0, 0, 0],\n",
       "        ...,\n",
       "        [0, 0, 0, ..., 0, 0, 0],\n",
       "        [0, 0, 0, ..., 0, 0, 0],\n",
       "        [0, 0, 0, ..., 0, 0, 0]], dtype=uint8),\n",
       " array([[1.70591609e-01, 2.02484005e-01, 2.82434539e-01, 2.44341094e-01,\n",
       "         1.00148754e-01, 1.76058675e+02, 2.07380102e+02, 2.23290119e+02,\n",
       "         6.02964684e+01, 7.87912020e+01, 1.01764826e+02, 1.13088013e+02,\n",
       "         1.44791453e+02, 1.49273939e+02, 2.62028093e+01, 2.34799575e+01,\n",
       "         2.93582352e+01, 5.78199714e+01, 1.49727720e+02, 1.98492037e+02,\n",
       "         1.09437125e+03, 8.97459181e+02, 6.96082678e+02, 8.97459181e+02,\n",
       "         8.87765908e+02, 7.30983017e+02, 6.96082678e+02, 7.30983017e+02,\n",
       "         6.50530161e+02, 1.15107891e+03, 1.02097667e+03, 6.66078484e+02,\n",
       "         1.02097667e+03, 1.60411900e+03, 1.39848714e+03, 6.66078484e+02,\n",
       "         1.39848714e+03, 1.62133140e+03, 2.77903416e+02, 1.76722524e+02,\n",
       "         2.03138717e+02, 1.76722524e+02, 1.45698401e+02, 1.57570645e+02,\n",
       "         2.03138717e+02, 1.57570645e+02, 1.76826347e+02, 1.32657222e+02,\n",
       "         8.36302430e+01, 7.73903972e+01, 8.36302430e+01, 1.00014882e+02,\n",
       "         1.11307653e+02, 7.73903972e+01, 1.11307653e+02, 1.63593969e+02,\n",
       "         9.36077468e+02, 4.31037954e+02, 3.53019862e+02, 4.31037954e+02,\n",
       "         3.29112424e+02, 3.06516488e+02, 3.53019862e+02, 3.06516488e+02,\n",
       "         3.25060423e+02]]),\n",
       " array([[2.42095067e-01, 2.28187919e-01, 2.04109873e-02, 1.11187989e-01,\n",
       "         3.98118038e-01, 1.79914976e+02, 1.46121606e+02, 1.55952129e+02,\n",
       "         5.69881747e+01, 5.41905700e+01, 6.90447241e+01, 1.35589831e+02,\n",
       "         1.55042373e+02, 1.74230508e+02, 1.13828251e+02, 1.05333230e+02,\n",
       "         1.24359365e+02, 4.07945777e+01, 2.14449079e+01, 1.95553528e+01,\n",
       "         1.22454336e+03, 9.09278273e+02, 7.09795301e+02, 9.09278273e+02,\n",
       "         7.04378038e+02, 5.65252463e+02, 7.09795301e+02, 5.65252463e+02,\n",
       "         4.81036434e+02, 4.82250315e+02, 3.43145825e+02, 3.21758716e+02,\n",
       "         3.43145825e+02, 4.01394399e+02, 4.27709185e+02, 3.21758716e+02,\n",
       "         4.27709185e+02, 5.48066375e+02, 1.32018769e+03, 7.82752973e+02,\n",
       "         6.65270819e+02, 7.82752973e+02, 6.74566001e+02, 6.80325826e+02,\n",
       "         6.65270819e+02, 6.80325826e+02, 8.58346866e+02, 6.96164653e+02,\n",
       "         2.04291830e+02, 4.60262507e+01, 2.04291830e+02, 2.81194807e+02,\n",
       "         1.79238370e+02, 4.60262507e+01, 1.79238370e+02, 3.11844410e+02,\n",
       "         3.52768021e+02, 1.29211484e+02, 7.96653505e+01, 1.29211484e+02,\n",
       "         6.72035168e+01, 5.19509553e+01, 7.96653505e+01, 5.19509553e+01,\n",
       "         5.63565989e+01]]))"
      ]
     },
     "execution_count": 78,
     "metadata": {},
     "output_type": "execute_result"
    }
   ],
   "source": [
    "bgdModel = np.zeros((1, 65), np.float64)\n",
    "fgdModel = np.zeros((1, 65), np.float64)\n",
    "\n",
    "rect = (50, 50, 300, 300)\n",
    "\n",
    "cv2.grabCut(img, mask, rect, bgdModel, fgdModel, 5, cv2.GC_INIT_WITH_RECT)"
   ]
  },
  {
   "cell_type": "code",
   "execution_count": 84,
   "metadata": {},
   "outputs": [],
   "source": [
    "cv2.imshow('mask', mask*50)\n",
    "cv2.waitKey(0)\n",
    "cv2.destroyAllWindows()"
   ]
  },
  {
   "cell_type": "code",
   "execution_count": 90,
   "metadata": {},
   "outputs": [],
   "source": [
    "mask2 = np.where((mask==2)|(mask==0),0, 1).astype('uint8')   #0 if true, 1 if false\n",
    "cv2.imshow('mask', mask2*255)\n",
    "cv2.waitKey(0)\n",
    "cv2.destroyAllWindows()"
   ]
  },
  {
   "cell_type": "code",
   "execution_count": 87,
   "metadata": {},
   "outputs": [
    {
     "name": "stdout",
     "output_type": "stream",
     "text": [
      "(281, 500)\n",
      "(281, 500)\n"
     ]
    }
   ],
   "source": [
    "print(mask.shape)\n",
    "print(mask2.shape)"
   ]
  },
  {
   "cell_type": "code",
   "execution_count": 92,
   "metadata": {},
   "outputs": [
    {
     "data": {
      "text/plain": [
       "(281, 500, 1)"
      ]
     },
     "execution_count": 92,
     "metadata": {},
     "output_type": "execute_result"
    }
   ],
   "source": [
    "mask2[:, :, np.newaxis].shape"
   ]
  },
  {
   "cell_type": "code",
   "execution_count": 93,
   "metadata": {},
   "outputs": [],
   "source": [
    "img1 = cv2.bitwise_and(img, img, mask=mask2)\n",
    "img2 = img*mask2[:, :, np.newaxis]  #that is how masking worksssss\n",
    "cv2.imshow('img1', img1)\n",
    "cv2.imshow('img2', img2)\n",
    "cv2.waitKey(0)\n",
    "cv2.destroyAllWindows()"
   ]
  },
  {
   "cell_type": "code",
   "execution_count": 94,
   "metadata": {},
   "outputs": [
    {
     "data": {
      "image/png": "[encoded data removed]",
      "text/plain": [
       "<Figure size 432x288 with 2 Axes>"
      ]
     },
     "metadata": {
      "needs_background": "light"
     },
     "output_type": "display_data"
    }
   ],
   "source": [
    "plt.imshow(img2)\n",
    "plt.colorbar()\n",
    "plt.show()"
   ]
  },
  {
   "cell_type": "code",
   "execution_count": null,
   "metadata": {},
   "outputs": [],
   "source": []
  }
 ],
 "metadata": {
  "kernelspec": {
   "display_name": "Python 3",
   "language": "python",
   "name": "python3"
  },
  "language_info": {
   "codemirror_mode": {
    "name": "ipython",
    "version": 3
   },
   "file_extension": ".py",
   "mimetype": "text/x-python",
   "name": "python",
   "nbconvert_exporter": "python",
   "pygments_lexer": "ipython3",
   "version": "3.7.3"
  }
 },
 "nbformat": 4,
 "nbformat_minor": 2
}
